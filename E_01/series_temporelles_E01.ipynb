{
 "cells": [
  {
   "metadata": {},
   "cell_type": "markdown",
   "source": [
    "## Ève Castonguay, UQAM - Laboratoire 3, expérience 1\n",
    "### Créé le 05/09/2025"
   ],
   "id": "4dec94cd803417b3"
  },
  {
   "metadata": {},
   "cell_type": "markdown",
   "source": "# Séries temporelles",
   "id": "e3f490ab5c6acd8c"
  },
  {
   "metadata": {},
   "cell_type": "markdown",
   "source": "#### Lire le fichier",
   "id": "d7ea99475e899360"
  },
  {
   "metadata": {
    "ExecuteTime": {
     "end_time": "2025-09-18T16:13:40.236854Z",
     "start_time": "2025-09-18T16:13:39.399196Z"
    }
   },
   "cell_type": "code",
   "source": [
    "# packages\n",
    "import os\n",
    "import cartopy.crs as ccrs\n",
    "import sys\n",
    "import glob\n",
    "import numpy as np\n",
    "import datetime as dt\n",
    "from datetime import datetime, timedelta\n",
    "from dateutil import tz\n",
    "import matplotlib.pyplot as plt\n",
    "import matplotlib.dates as mdates\n",
    "import xarray as xr\n",
    "from matplotlib.pyplot import title, xlabel\n",
    "from scipy.spatial import cKDTree, KDTree\n",
    "import pandas as pd\n",
    "\n",
    "# répertoire\n",
    "path_file='/Users/evecastonguay/Desktop/Labo/E_01/imerg_pr_201911_3h.nc4'\n",
    "\n",
    "# nom de la variable\n",
    "var_name='precipitationCal'\n",
    "\n",
    "# lire fichier\n",
    "print('Reading file: ',path_file)\n",
    "ds = xr.open_dataset(path_file)\n",
    "ds.close()\n",
    "print('Reading file: DONE')\n",
    "\n",
    "pcpts = ds[var_name]\n",
    "lons = ds['lon'] # longitude est un DataArray\n",
    "lats = ds['lat'] # or, ds.lat\n",
    "\n",
    "# exemple de lecture avec longitude\n",
    "\"\"\"\n",
    "print(\"-> métadonnées:\")\n",
    "print(ds) # affiche les métadonnées\n",
    "\n",
    "*Dimensions*:           (time: 240, bnds: 2, lat: 1800, lon: 3600)\n",
    "Coordinates:\n",
    "  * time              (time) datetime64[ns] 2kB 2019-11-01 ... 2019-11-30T21:...\n",
    "  * lon               (lon) float32 14kB -179.9 -179.9 -179.8 ... 179.9 179.9\n",
    "  * lat               (lat) float32 7kB -89.95 -89.85 -89.75 ... 89.85 89.95\n",
    "Dimensions without coordinates: bnds\n",
    "Data *variables*:\n",
    "    time_bnds         (time, bnds) datetime64[ns] 4kB ...\n",
    "    precipitationCal  (time, lat, lon) float32 6GB ...\n",
    "*Attributes*:\n",
    "    CDI:          Climate Data Interface version 1.9.5 (http://mpimet.mpg.de/...\n",
    "    history:      Mon Sep 27 17:58:00 2021: cdo --timestat_date first -L -f n...\n",
    "    Conventions:  CF-1.6\n",
    "    FileHeader:   DOI=10.5067/GPM/IMERG/3B-HH/06;\\nDOIauthority=http://dx.doi...\n",
    "    FileInfo:     DataFormatVersion=6a;\\nTKCodeBuildVersion=0;\\nMetadataVersi...\n",
    "    GridHeader:   BinMethod=ARITHMETIC_MEAN;\\nRegistration=CENTER;\\nLatitudeR...\n",
    "    CDO:          Climate Data Operators version 1.9.5 (http://mpimet.mpg.de/...\n",
    "\n",
    "print(\"-> valeurs:\")\n",
    "print(lons.values) # affiche le vecteur de données (float32)\n",
    "print(lons.values[0:3]) # affiche les 3 premières valeurs du vecteur\n",
    "\"\"\""
   ],
   "id": "cdcfe022efe6f5b7",
   "outputs": [
    {
     "name": "stdout",
     "output_type": "stream",
     "text": [
      "Reading file:  /Users/evecastonguay/Desktop/Labo/E_01/imerg_pr_201911_3h.nc4\n",
      "Reading file: DONE\n"
     ]
    },
    {
     "data": {
      "text/plain": [
       "'\\nprint(\"-> métadonnées:\")\\nprint(ds) # affiche les métadonnées\\n\\n*Dimensions*:           (time: 240, bnds: 2, lat: 1800, lon: 3600)\\nCoordinates:\\n  * time              (time) datetime64[ns] 2kB 2019-11-01 ... 2019-11-30T21:...\\n  * lon               (lon) float32 14kB -179.9 -179.9 -179.8 ... 179.9 179.9\\n  * lat               (lat) float32 7kB -89.95 -89.85 -89.75 ... 89.85 89.95\\nDimensions without coordinates: bnds\\nData *variables*:\\n    time_bnds         (time, bnds) datetime64[ns] 4kB ...\\n    precipitationCal  (time, lat, lon) float32 6GB ...\\n*Attributes*:\\n    CDI:          Climate Data Interface version 1.9.5 (http://mpimet.mpg.de/...\\n    history:      Mon Sep 27 17:58:00 2021: cdo --timestat_date first -L -f n...\\n    Conventions:  CF-1.6\\n    FileHeader:   DOI=10.5067/GPM/IMERG/3B-HH/06;\\nDOIauthority=http://dx.doi...\\n    FileInfo:     DataFormatVersion=6a;\\nTKCodeBuildVersion=0;\\nMetadataVersi...\\n    GridHeader:   BinMethod=ARITHMETIC_MEAN;\\nRegistration=CENTER;\\nLatitudeR...\\n    CDO:          Climate Data Operators version 1.9.5 (http://mpimet.mpg.de/...\\n\\nprint(\"-> valeurs:\")\\nprint(lons.values) # affiche le vecteur de données (float32)\\nprint(lons.values[0:3]) # affiche les 3 premières valeurs du vecteur\\n'"
      ]
     },
     "execution_count": 2,
     "metadata": {},
     "output_type": "execute_result"
    }
   ],
   "execution_count": 2
  },
  {
   "metadata": {},
   "cell_type": "markdown",
   "source": "#### 1) Coordonnées choisies",
   "id": "f84e51405440a5ba"
  },
  {
   "metadata": {
    "ExecuteTime": {
     "end_time": "2025-09-18T16:16:14.307145Z",
     "start_time": "2025-09-18T16:16:14.304032Z"
    }
   },
   "cell_type": "code",
   "source": [
    "kl_lat = 3.1\n",
    "kl_lon = 101.6\n",
    "\n",
    "mtl_lat = 45.5\n",
    "mtl_lon = -73.5\n",
    "\n",
    "oce_lat = 5\n",
    "oce_lon = 106.0\n",
    "\n",
    "wal_lat = 47.1 # walenstadt, suisse\n",
    "wal_lon = 9.2"
   ],
   "id": "ddc3081451e50d20",
   "outputs": [],
   "execution_count": 3
  },
  {
   "metadata": {},
   "cell_type": "markdown",
   "source": "#### 2.1) Point de grille le plus proche",
   "id": "3f1a54b550759e40"
  },
  {
   "metadata": {
    "ExecuteTime": {
     "end_time": "2025-09-18T16:16:19.886731Z",
     "start_time": "2025-09-18T16:16:19.872683Z"
    }
   },
   "cell_type": "code",
   "source": [
    "# index: accessing a specific element using it's index // index label: value at a certain index number or coordinate\n",
    "# kuala lumpur\n",
    "kl_ds = ds.sel(lon=kl_lon, lat=kl_lat, method='nearest') # renvoie un datastore avec valeurs uniquement pour kl\n",
    "kl_nearest_lon = kl_ds.lon.values\n",
    "kl_nearest_lat = kl_ds.lat.values\n",
    "print(f\"Point de grille le plus proche pour Kuala Lumpur: ({kl_nearest_lon:.2f}°; {kl_nearest_lat:.2f}°)\")\n",
    "# montréal\n",
    "mtl_ds = ds.sel(lon=mtl_lon, lat=mtl_lat, method='nearest')\n",
    "mtl_nearest_lon = mtl_ds.lon.values\n",
    "mtl_nearest_lat = mtl_ds.lat.values\n",
    "print(f\"Point de grille le plus proche pour Montréal: ({mtl_nearest_lon:.2f}°; {mtl_nearest_lat:.2f}°)\")\n",
    "# océan\n",
    "oce_ds = ds.sel(lon=oce_lon, lat=oce_lat, method='nearest')\n",
    "oce_nearest_lon = oce_ds.lon.values\n",
    "oce_nearest_lat = oce_ds.lat.values\n",
    "print(f\"Point de grille le plus proche pour la coordonnée dans l'océan (mer de Chine): ({oce_nearest_lon:.2f}°; {oce_nearest_lat:.2f}°)\")\n",
    "# walenstadt\n",
    "wal_ds = ds.sel(lon=wal_lon, lat=wal_lat, method='nearest')\n",
    "wal_nearest_lon = wal_ds.lon.values\n",
    "wal_nearest_lat = wal_ds.lat.values\n",
    "print(f\"Point de grille le plus proche pour Walenstadt: ({wal_nearest_lon:.2f}°; {wal_nearest_lat:.2f}°)\")"
   ],
   "id": "658bd44c8e721af8",
   "outputs": [
    {
     "name": "stdout",
     "output_type": "stream",
     "text": [
      "Point de grille le plus proche pour Kuala Lumpur: (101.55°; 3.05°)\n",
      "Point de grille le plus proche pour Montréal: (-73.45°; 45.55°)\n",
      "Point de grille le plus proche pour la coordonnée dans l'océan (mer de Chine): (106.05°; 5.05°)\n",
      "Point de grille le plus proche pour Walenstadt: (9.25°; 47.05°)\n"
     ]
    }
   ],
   "execution_count": 4
  },
  {
   "metadata": {},
   "cell_type": "markdown",
   "source": "#### 2.2) Variation du taux de précipitation en fonction du temps",
   "id": "e2d0d2e15a89d3e8"
  },
  {
   "metadata": {
    "ExecuteTime": {
     "end_time": "2025-09-18T16:17:17.866619Z",
     "start_time": "2025-09-18T16:16:52.644312Z"
    }
   },
   "cell_type": "code",
   "source": [
    "# kuala lumpur\n",
    "kl_pcpts = kl_ds[var_name].values # type np.ndarray, (240,)\n",
    "kl_var = np.diff(kl_pcpts) # (239,)\n",
    "# montréal\n",
    "mtl_pcpts = mtl_ds[var_name].values\n",
    "mtl_var = np.diff(mtl_pcpts)\n",
    "# océan\n",
    "oce_pcpts = oce_ds[var_name].values\n",
    "oce_var = np.diff(oce_pcpts)\n",
    "# walenstadt\n",
    "wal_pcpts = wal_ds[var_name].values\n",
    "wal_var = np.diff(wal_pcpts)\n",
    "wal_time = wal_ds['time'].values[:-1]\n",
    "\n",
    "# making the plot\n",
    "fig, ax = plt.subplots(4, figsize=[7,8])\n",
    "ax[0].plot(kl_var, 'b')\n",
    "ax[0].set_ylabel('Variation taux pcpt \\n [mm/3h]', size=12)\n",
    "ax[0].axhline(y=0,linewidth=0.5, color = 'gray')\n",
    "ax[1].plot(mtl_var, 'b')\n",
    "ax[1].set_ylabel('Variation taux pcpt \\n [mm/3h]', size=12)\n",
    "ax[1].axhline(y=0,linewidth=0.5, color = 'gray')\n",
    "ax[2].plot(oce_var, 'b')\n",
    "ax[2].set_ylabel('Variation taux pcpt \\n [mm/3h]', size=12)\n",
    "ax[2].axhline(y=0,linewidth=0.5, color = 'gray')\n",
    "ax[3].plot(wal_time, wal_var, 'b')\n",
    "ax[3].set_ylabel('Variation taux pcpt \\n [mm/3h]', size=12)\n",
    "ax[3].axhline(y=0,linewidth=0.5, color = 'gray')\n",
    "#ax[0].set_xlim([start,end])\n",
    "for i in range(4):\n",
    "    ax[i].xaxis.set_major_formatter(mdates.DateFormatter('%H:%M'))\n",
    "    ax[i].tick_params(labelsize=12)\n",
    "    if i!=4:\n",
    "        ax[i].set_xticks([])\n",
    "ax[3].set_xlabel('Date et heure',size=12)\n",
    "plt.subplots_adjust(hspace=0)\n",
    "#ax[3].set_xlim([start,end])\n",
    "ax[3].xaxis.set_major_formatter(mdates.DateFormatter('%H:%M'))\n",
    "plt.show()\n",
    "# 2019-11-01T00:00:00.000000000"
   ],
   "id": "57c8965be6a13796",
   "outputs": [],
   "execution_count": 5
  },
  {
   "metadata": {},
   "cell_type": "markdown",
   "source": "#### 3a) Accumulation totale de précipitations",
   "id": "4e12596cb256acc"
  },
  {
   "metadata": {},
   "cell_type": "code",
   "outputs": [],
   "execution_count": null,
   "source": [
    "print(f\"Accumulation totale [mm] de précipitations en novembre 2019 pour Kuala Lumpur: {kl_pcpts.sum():.2f}\")\n",
    "print(f\"Accumulation totale [mm] de précipitations en novembre 2019 pour Montréal: {mtl_pcpts.sum():.2f}\")\n",
    "print(f\"Accumulation totale [mm] de précipitations en novembre 2019 en mer de Chine: {oce_pcpts.sum():.2f}\")\n",
    "print(f\"Accumulation totale [mm] de précipitations en novembre 2019 pour Walenstadt: {wal_pcpts.sum():.2f}\")"
   ],
   "id": "ac130be94e1faf5e"
  },
  {
   "metadata": {},
   "cell_type": "markdown",
   "source": "#### 3b) Nombre de mesures avec un taux supérieur à 0mm/3h & fraction du temps qu'il pleut",
   "id": "f43e17e7b5380394"
  },
  {
   "metadata": {},
   "cell_type": "code",
   "outputs": [],
   "execution_count": null,
   "source": [
    "kl_jours_pluie = np.sum(kl_pcpts > 0)\n",
    "mtl_jours_pluie = np.sum(mtl_pcpts > 0)\n",
    "oce_jours_pluie = np.sum(oce_pcpts > 0)\n",
    "wal_jours_pluie = np.sum(wal_pcpts > 0)\n",
    "print(f\"Nombre de mesures avec un taux supérieur à 0mm/3h pour Kuala Lumpur: {kl_jours_pluie}\")\n",
    "print(f\"Nombre de mesures avec un taux supérieur à 0mm/3h pour Montréal: {mtl_jours_pluie}\")\n",
    "print(f\"Nombre de mesures avec un taux supérieur à 0mm/3h en mer de Chine: {oce_jours_pluie}\")\n",
    "print(f\"Nombre de mesures avec un taux supérieur à 0mm/3h pour Walenstadt: {wal_jours_pluie}\")\n",
    "kl_ftp = kl_jours_pluie/240\n",
    "mtl_ftp = mtl_jours_pluie/240\n",
    "oce_ftp = oce_jours_pluie/240\n",
    "wal_ftp = wal_jours_pluie/240\n",
    "print(f\"F.t.p. pour Kuala Lumpur: {kl_ftp:.2f}\")\n",
    "print(f\"f.t.p. pour Montréal: {mtl_ftp:.2f}\")\n",
    "print(f\"F.t.p. en mer de Chine: {oce_ftp:.2f}\")\n",
    "print(f\"F.t.p. pour Walenstadt: {wal_ftp:.2f}\")"
   ],
   "id": "85b777ec7fff093e"
  },
  {
   "metadata": {},
   "cell_type": "markdown",
   "source": "#### 3c) Précipitation moyenne & intensité de pcpt moyenne",
   "id": "d0b49205a9b7c74e"
  },
  {
   "metadata": {},
   "cell_type": "code",
   "outputs": [],
   "execution_count": null,
   "source": [
    "kl_pcpts_moy = kl_pcpts.mean()\n",
    "kl_pcpts_int = kl_pcpts[kl_pcpts>0].mean()\n",
    "print(f\"Moyennes de précipitation et d'intensité de précipitation [mm/3h] pour Kuala Lumpur: {kl_pcpts_moy:.2f} et {kl_pcpts_int:.2f}\")\n",
    "mtl_pcpts_moy = mtl_pcpts.mean()\n",
    "mtl_pcpts_int = mtl_pcpts[mtl_pcpts>0].mean()\n",
    "print(f\"Moyennes de précipitation et d'intensité de précipitation [mm/3h] pour Montréal: {mtl_pcpts_moy:.2f} et {mtl_pcpts_int:.2f}\")\n",
    "oce_pcpts_moy = oce_pcpts.mean()\n",
    "oce_pcpts_int = oce_pcpts[oce_pcpts>0].mean()\n",
    "print(f\"Moyennes de précipitation et d'intensité de précipitation [mm/3h] pour la mer de Chine: {oce_pcpts_moy:.2f} et {oce_pcpts_int:.2f}\")\n",
    "wal_pcpts_moy = wal_pcpts.mean()\n",
    "wal_pcpts_int = wal_pcpts[wal_pcpts>0].mean()\n",
    "print(f\"Moyennes de précipitation et d'intensité de précipitation [mm/3h] pour Walenstadt: {wal_pcpts_moy:.2f} et {wal_pcpts_int:.2f}\")"
   ],
   "id": "e683b993b92a8db6"
  },
  {
   "metadata": {},
   "cell_type": "markdown",
   "source": "#### 3d) Durée maximale des évènements de précipitation",
   "id": "9cc3917d372eda5c"
  },
  {
   "metadata": {},
   "cell_type": "code",
   "outputs": [],
   "execution_count": null,
   "source": [
    "# kl\n",
    "zero_one_vector = kl_pcpts > 0\n",
    "counts = []\n",
    "n = 0\n",
    "for i in zero_one_vector:\n",
    "    if i==0:\n",
    "        counts.append(n)\n",
    "        n = 0\n",
    "    if i==1:\n",
    "        n+=1\n",
    "print(f\"Durée maximale des évènements de précipitation pour Kuala Lumpur: {max(counts)*3} heures\")\n",
    "# mtl\n",
    "zero_one_vector = mtl_pcpts > 0\n",
    "counts = []\n",
    "n = 0\n",
    "for i in zero_one_vector:\n",
    "    if i==0:\n",
    "        counts.append(n)\n",
    "        n = 0\n",
    "    if i==1:\n",
    "        n+=1\n",
    "print(f\"Durée maximale des évènements de précipitation pour Montréal: {max(counts)*3} heures\")\n",
    "# oce\n",
    "zero_one_vector = oce_pcpts > 0\n",
    "counts = []\n",
    "n = 0\n",
    "for i in zero_one_vector:\n",
    "    if i==0:\n",
    "        counts.append(n)\n",
    "        n = 0\n",
    "    if i==1:\n",
    "        n+=1\n",
    "print(f\"Durée maximale des évènements de précipitation pour la mer de Chine: {max(counts)*3} heures\")\n",
    "# wal\n",
    "zero_one_vector = wal_pcpts > 0\n",
    "counts = []\n",
    "n = 0\n",
    "for i in zero_one_vector:\n",
    "    if i==0:\n",
    "        counts.append(n)\n",
    "        n = 0\n",
    "    if i==1:\n",
    "        n+=1\n",
    "print(f\"Durée maximale des évènements de précipitation pour Walenstadt: {max(counts)*3} heures\")"
   ],
   "id": "2fddf23bde7ef630"
  },
  {
   "metadata": {},
   "cell_type": "markdown",
   "source": "#### 3e) Valeur maximale du taux de précipitation",
   "id": "3cc48a55c3da847e"
  },
  {
   "metadata": {},
   "cell_type": "code",
   "outputs": [],
   "execution_count": null,
   "source": [
    "print(f\"Valeur maximale du taux de précipitation [mm/3h] pour Kuala Lumpur: {max(kl_pcpts):.2f}\")\n",
    "print(f\"Valeur maximale du taux de précipitation [mm/3h] pour Montréal: {max(mtl_pcpts):.2f}\")\n",
    "print(f\"Valeur maximale du taux de précipitation [mm/3h] pour la mer de Chine: {max(oce_pcpts):.2f}\")\n",
    "print(f\"Valeur maximale du taux de précipitation [mm/3h] pour Walenstadt: {max(wal_pcpts):.2f}\")"
   ],
   "id": "959ba6be92c27c62"
  },
  {
   "metadata": {},
   "cell_type": "markdown",
   "source": "#### 3f) Points de grille supplémentaires à 50 km du point original",
   "id": "7151c6102dc8983f"
  },
  {
   "metadata": {},
   "cell_type": "code",
   "outputs": [],
   "execution_count": null,
   "source": [
    "place = [\"kl\",\"mtl\",\"oce\",\"wal\"] #\n",
    "\n",
    "for p in place:\n",
    "    # créer les coordonnées des 4 points à 50 km (0.45°) du point central\n",
    "    globals()[f\"{p}_1_lon\"] = globals()[f\"{p}_lon\"]\n",
    "    globals()[f\"{p}_1_lat\"] = globals()[f\"{p}_lat\"]+0.45\n",
    "    globals()[f\"{p}_2_lon\"] = globals()[f\"{p}_lon\"]\n",
    "    globals()[f\"{p}_2_lat\"] = globals()[f\"{p}_lat\"]-0.45\n",
    "    globals()[f\"{p}_3_lon\"] = globals()[f\"{p}_lon\"]-0.45\n",
    "    globals()[f\"{p}_3_lat\"] = globals()[f\"{p}_lat\"]\n",
    "    globals()[f\"{p}_4_lon\"] = globals()[f\"{p}_lon\"]+0.45\n",
    "    globals()[f\"{p}_4_lat\"] = globals()[f\"{p}_lat\"]\n",
    "\n",
    "    print(globals()[f\"{p}_4_lon\"])\n",
    "\n",
    "    for i in range(1,5):\n",
    "        # créer un datastore contenant uniquement les valeurs de variable pour la coordonnée choisie\n",
    "        globals()[f\"{p}_{i}_ds\"] = ds.sel(lon=globals()[f\"{p}_{i}_lon\"], lat=globals()[f\"{p}_{i}_lat\"], method='nearest')\n",
    "\n",
    "        # valeurs (240) de précipitation pour la coordonnée choisie\n",
    "        globals()[f\"{p}_{i}_pcpts\"] = globals()[f\"{p}_{i}_ds\"][var_name].values\n",
    "        if  globals()[f\"{p}_{i}_pcpts\"].shape != (240,):\n",
    "            raise ValueError(f\"Le format attendu est (240,)\")\n",
    "\n",
    "        # redimensionner\n",
    "        globals()[f\"{p}_{i}_pcpts\"] = globals()[f\"{p}_{i}_pcpts\"].reshape(1,240)\n",
    "\n",
    "    # créer une matrice par endroit (5, 240). les lignes représentent les différentes coordonnées et les colonnes sont les observations\n",
    "    globals()[f\"{p}_pcpts_matrix\"] = globals()[f\"{p}_pcpts\"].reshape(1,240)\n",
    "    for i in range(1, 5):\n",
    "        globals()[f\"{p}_pcpts_matrix\"] = np.append(globals()[f\"{p}_pcpts_matrix\"],globals()[f\"{p}_{i}_pcpts\"],axis=0)\n",
    "\n",
    "    # calculer la corrélation\n",
    "    globals()[f\"{p}_corr_matrix\"] = np.corrcoef(globals()[f\"{p}_pcpts_matrix\"])\n",
    "    print(globals()[f\"{p}_corr_matrix\"])\n",
    "    print(f'Corrélation entre la série temporelle de {p} et son point à 50 km au nord: {globals()[f\"{p}_corr_matrix\"][1,0]:.2f}')\n",
    "    print(f'Corrélation entre la série temporelle de {p} et son point à 50 km au sud: {globals()[f\"{p}_corr_matrix\"][2, 0]:.2f}')\n",
    "    print(f'Corrélation entre la série temporelle de {p} et son point à 50 km à l\\'ouest: {globals()[f\"{p}_corr_matrix\"][3, 0]:.2f}')\n",
    "    print(f'Corrélation entre la série temporelle de {p} et son point à 50 km à l\\'est: {globals()[f\"{p}_corr_matrix\"][4, 0]:.2f}')\n",
    "\n",
    "'''\n",
    "Résultats pour kl:\n",
    "Corrélation entre la série temporelle de kl et son point à 50 km au nord: 0.54\n",
    "Corrélation entre la série temporelle de kl et son point à 50 km au sud: 0.50\n",
    "Corrélation entre la série temporelle de kl et son point à 50 km à l'ouest: 0.23\n",
    "Corrélation entre la série temporelle de kl et son point à 50 km à l'est: 0.25\n",
    "'''"
   ],
   "id": "ae2b6efb93781c9c"
  },
  {
   "metadata": {},
   "cell_type": "markdown",
   "source": "#### 3f) Points de grille supplémentaires à 50 km du point original - scatter plot",
   "id": "fc44fc5282df50ae"
  },
  {
   "metadata": {},
   "cell_type": "code",
   "outputs": [],
   "execution_count": null,
   "source": [
    "# Kuala Lumpur\n",
    "fig, ax = plt.subplots()\n",
    "color = ['tab:blue', 'tab:orange', 'tab:green', 'tab:purple']\n",
    "label = ['kl-north', 'kl-south', 'kl-west', 'kl-east']\n",
    "'''\n",
    "# -> x-axis (the same for all)\n",
    "x = kl_ds['time'].values\n",
    "\n",
    "# -> central coordinate\n",
    "ax.scatter(x, kl_pcpts, c='tab:gray', label='kl', alpha=0.3, edgecolors='none')\n",
    "\n",
    "# -> 50 km coordinates\n",
    "'''\n",
    "for i in range(1,5):\n",
    "    ax.scatter(kl_pcpts, globals()[f\"kl_{i}_pcpts\"], c=color[i-1], label=label[i-1], alpha=0.5, edgecolors='none')\n",
    "\n",
    "ax.set_xlim(0, 20)\n",
    "ax.set_ylim(0, 20)\n",
    "ax.legend()\n",
    "ax.grid(True)\n",
    "plt.show()"
   ],
   "id": "58e0bd547e7fddd0"
  },
  {
   "metadata": {},
   "cell_type": "markdown",
   "source": "#### 4) Cycle journalier de précipitation",
   "id": "5f4069d0878088b0"
  },
  {
   "metadata": {},
   "cell_type": "code",
   "outputs": [],
   "execution_count": null,
   "source": [
    "# note pour Montréal - malgré changement d'heure le 3 novembre à 2 am, assumé heure standard d'hiver pour ne pas créer un double dans les données au moment du changement d'heure\n",
    "\n",
    "# -> calcul de l'ajustement à l'heure UTC pour chaque ville\n",
    "kl_local = kl_lon/15\n",
    "mtl_local = mtl_lon/15\n",
    "oce_local = oce_lon/15\n",
    "wal_local = wal_lon/15\n",
    "\n",
    "# -> boucle pour condenser le code\n",
    "place = [\"kl\",\"mtl\",\"oce\",\"wal\"] # \"kl\",\"mtl\",\"oce\",\"wal\"\n",
    "\n",
    "for p in place:\n",
    "    # -> conversion du décalage horaire (_local) en nombre de secondes de décalage\n",
    "    globals()[f\"{p}_s\"] = int(globals()[f\"{p}_local\"] * 60 * 60)\n",
    "\n",
    "    # -> faire le changement d'heure\n",
    "    globals()[f\"{p}_time\"] = globals()[f\"{p}_ds\"]['time'].values  # class np.datetime64, format: '2019-11-30T21:00:00.000000000'\n",
    "    globals()[f\"{p}_time\"] = globals()[f\"{p}_time\"] +np.timedelta64(globals()[f\"{p}_s\"], 's')\n",
    "\n",
    "    '''\n",
    "    les heures locales de chaque ville sont encodées dans:\n",
    "    kl_time\n",
    "    mtl_time\n",
    "    oce_time\n",
    "    wal_time\n",
    "    (type = numpy.ndarray à l'intérieur du duquel il y a des numpy.datetime64)\n",
    "    '''\n",
    "\n",
    "    # -> listes contenant les différentes heures de mesure dans une journée & les indices associés aux prises de mesure pour chaque heure\n",
    "    heures = np.array([],dtype=int)\n",
    "    indices = np.array([],dtype=int)\n",
    "    mean_pcpts = np.array([])\n",
    "\n",
    "    for i, val in enumerate(globals()[f\"{p}_time\"]):\n",
    "        t = pd.Timestamp(val) # changer le format de l'heure (timestamp=pandas, datetime64=numpy)\n",
    "        h = t.hour\n",
    "        heures = np.append(heures, h)\n",
    "        indices = np.append(indices, i)\n",
    "\n",
    "    heures_uniques = np.unique(heures)\n",
    "    dict = {h_u: indices[heures == h_u] for h_u in heures_uniques}\n",
    "\n",
    "    # -> trouver la moyenne des précipitations à chaque heure\n",
    "    for h_u in heures_uniques:\n",
    "        mean_pcpts = np.append(mean_pcpts, globals()[f\"{p}_pcpts\"][dict[h_u]].mean())\n",
    "\n",
    "    # -> plot\n",
    "    fig, ax = plt.subplots()\n",
    "    ax.scatter(heures_uniques, mean_pcpts, c='mediumseagreen', s=100, alpha=0.5)\n",
    "    ax.grid(True)\n",
    "    ax.set(ylim=(0, 5), yticks=np.arange(0, 5, 0.5), xticks=heures_uniques,\n",
    "           title=f\"Moyenne des précipitations pour {p}\", xlabel=\"heures\", ylabel=\"précipitations [mm/3h]\")\n",
    "    plt.show()"
   ],
   "id": "89c3b9581d3b9c28"
  }
 ],
 "metadata": {
  "kernelspec": {
   "display_name": "Python 3",
   "language": "python",
   "name": "python3"
  },
  "language_info": {
   "codemirror_mode": {
    "name": "ipython",
    "version": 2
   },
   "file_extension": ".py",
   "mimetype": "text/x-python",
   "name": "python",
   "nbconvert_exporter": "python",
   "pygments_lexer": "ipython2",
   "version": "2.7.6"
  }
 },
 "nbformat": 4,
 "nbformat_minor": 5
}
